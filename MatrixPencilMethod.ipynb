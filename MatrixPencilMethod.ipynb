{
 "cells": [
  {
   "cell_type": "code",
   "execution_count": 432,
   "id": "f1b95299",
   "metadata": {},
   "outputs": [],
   "source": [
    "import numpy as np\n",
    "import numpy.linalg as LA\n",
    "import random"
   ]
  },
  {
   "cell_type": "code",
   "execution_count": 543,
   "id": "b9737c3c",
   "metadata": {},
   "outputs": [],
   "source": [
    "# parameters\n",
    "time_intervals = 60\n",
    "period = .1\n",
    "pencil_parameter = 12"
   ]
  },
  {
   "cell_type": "markdown",
   "id": "637d61e9",
   "metadata": {},
   "source": [
    "## Generating test input"
   ]
  },
  {
   "cell_type": "code",
   "execution_count": 544,
   "id": "f71f5d3e",
   "metadata": {},
   "outputs": [],
   "source": [
    "# this is the M value that we won't know with an actual problem\n",
    "damp_factor = 0\n",
    "sample_size = 12\n",
    "frequencies = np.array(random.sample(range(1,15),sample_size))\n",
    "\n",
    "amplitudes = [complex(random.uniform(-5.0, 5.0), random.uniform(-5.0, 5.0)) for j in range(sample_size)]\n"
   ]
  },
  {
   "cell_type": "code",
   "execution_count": null,
   "id": "7aca0f7f",
   "metadata": {},
   "outputs": [],
   "source": []
  },
  {
   "cell_type": "code",
   "execution_count": 545,
   "id": "04ed994a",
   "metadata": {
    "scrolled": true
   },
   "outputs": [],
   "source": [
    "# define random wave input\n",
    "# basically defining Z_1 from the paper\n",
    "z_0 = np.zeros((sample_size), dtype = complex)\n",
    "y_list = []\n",
    "for n in range(sample_size):\n",
    "    z_0[n] = np.exp( complex(-damp_factor, frequencies[n])*period )"
   ]
  },
  {
   "cell_type": "code",
   "execution_count": 547,
   "id": "99bbbe70",
   "metadata": {},
   "outputs": [],
   "source": [
    "signal_data = np.zeros((time_intervals,sample_size), dtype = complex)\n",
    "for k in range(time_intervals):\n",
    "    signal_data[k,:] = z_0**k"
   ]
  },
  {
   "cell_type": "code",
   "execution_count": 548,
   "id": "a15e8b35",
   "metadata": {},
   "outputs": [],
   "source": [
    "# linear comnbination of residues and complex exponentials\n",
    "# observed_signal is our test input to put into the matrix pencil algorithm\n",
    "observed_signal = (signal_data@amplitudes)"
   ]
  },
  {
   "cell_type": "code",
   "execution_count": 550,
   "id": "85fdb3e7",
   "metadata": {},
   "outputs": [
    {
     "data": {
      "text/plain": [
       "array([0.16996714+0.98544973j, 0.45359612+0.89120736j,\n",
       "       0.82533561+0.56464247j, 0.95533649+0.29552021j,\n",
       "       0.26749883+0.96355819j, 0.98006658+0.19866933j,\n",
       "       0.87758256+0.47942554j, 0.76484219+0.64421769j,\n",
       "       0.36235775+0.93203909j, 0.69670671+0.71735609j,\n",
       "       0.62160997+0.78332691j, 0.54030231+0.84147098j])"
      ]
     },
     "execution_count": 550,
     "metadata": {},
     "output_type": "execute_result"
    }
   ],
   "source": [
    "z_0  #the MPM procedure should solve for these values"
   ]
  },
  {
   "cell_type": "code",
   "execution_count": null,
   "id": "9163e345",
   "metadata": {},
   "outputs": [],
   "source": []
  },
  {
   "cell_type": "markdown",
   "id": "3fa7ac7e",
   "metadata": {},
   "source": [
    "## Matrix Pencil Method (noiselss data version)"
   ]
  },
  {
   "cell_type": "code",
   "execution_count": 551,
   "id": "dfa831d0",
   "metadata": {},
   "outputs": [],
   "source": [
    "# right now the dimensionality gives L eigvals, but we would just truncate to M based off\n",
    "# sig figs for the noisy case (for noiseless M = L)\n",
    "\n",
    "def MatrixPencil_noiseless(x, N, L):\n",
    "#     data list x as input\n",
    "   \n",
    "    # define Y2, Y1\n",
    "    Y1 = np.zeros((N-L,L), dtype=complex)\n",
    "   \n",
    "    Y2 = np.zeros((N-L,L), dtype = complex)\n",
    "    \n",
    "    for i in range(N-L):\n",
    "        for j in range(L):\n",
    "            Y1[i,j] = x[i + j]\n",
    "            Y2[i,j] = x[i + j + 1]\n",
    "\n",
    "    #solve eigval problem\n",
    "    z = LA.eigvals(pseudo_inv(Y1)@Y2)\n",
    "    \n",
    "    #return eigval\n",
    "    return z"
   ]
  },
  {
   "cell_type": "code",
   "execution_count": null,
   "id": "2b41459f",
   "metadata": {},
   "outputs": [],
   "source": []
  },
  {
   "cell_type": "code",
   "execution_count": 552,
   "id": "5067f673",
   "metadata": {},
   "outputs": [],
   "source": [
    "def pseudo_inv(A):\n",
    "    #takes np.array input type, changes to np.matrix, performs comp, returns np.array type\n",
    "    A = np.matrix(A)\n",
    "    # assuming columns of A are linearly independent, Moore-Penrose inv takes this form\n",
    "    return np.array(LA.inv(A.H @ A)@A.H)"
   ]
  },
  {
   "cell_type": "code",
   "execution_count": 553,
   "id": "9080dee9",
   "metadata": {},
   "outputs": [],
   "source": [
    "eigvals_noiseless = MatrixPencil_noiseless(observed_signal, time_intervals, pencil_parameter)"
   ]
  },
  {
   "cell_type": "code",
   "execution_count": 554,
   "id": "2042cb4c",
   "metadata": {},
   "outputs": [
    {
     "data": {
      "text/plain": [
       "array([-1.01478638e-05-1.11159878e-05j,  7.80831147e-02+8.71317908e-01j,\n",
       "        2.55579224e-01+3.11624593e-01j,  9.54851793e-01+1.01956125e-01j,\n",
       "        2.68656298e-01+1.01013275e+00j,  3.28368450e-01+8.40635318e-01j,\n",
       "        3.72650452e-01+8.98368741e-01j,  8.41959165e-01+8.99588346e-01j,\n",
       "        7.00294746e-01+8.40724084e-01j,  9.46087951e-01+2.91512180e-01j,\n",
       "        8.38655083e-01+5.04361885e-01j,  7.55403856e-01+6.20418664e-01j])"
      ]
     },
     "execution_count": 554,
     "metadata": {},
     "output_type": "execute_result"
    }
   ],
   "source": [
    "eigvals_noiseless"
   ]
  },
  {
   "cell_type": "markdown",
   "id": "36355086",
   "metadata": {},
   "source": [
    "## Matrix Pencil Method (noisy data procedure)"
   ]
  },
  {
   "cell_type": "code",
   "execution_count": 568,
   "id": "f2f66755",
   "metadata": {},
   "outputs": [
    {
     "name": "stdout",
     "output_type": "stream",
     "text": [
      "signals= \n",
      " (60, 12)\n",
      "y = \n",
      " (60,)\n"
     ]
    }
   ],
   "source": [
    "def MatrixPencil(y, N, L, sigfigs):\n",
    "#   y - observed time response data\n",
    "    \n",
    "    Y = np.zeros((N-L,L+1), dtype = complex)\n",
    "    \n",
    "    for i in range(N-L):\n",
    "        for j in range(L+1): \n",
    "            Y[i,j] = y[i+j]\n",
    "\n",
    "    U,S,Vh = LA.svd(Y, full_matrices = True)\n",
    "\n",
    "#   print('Y_recons= \\n', np.dot(U[:,:S_dim]*S, Vh) )\n",
    "\n",
    "    threshold = 10**(-sigfigs)\n",
    "    max_singval = np.max(S)\n",
    "    \n",
    "    # define mask to truncate singular values to M\n",
    "    mask = S/max_singval > threshold\n",
    "    S[~mask] = 0    \n",
    "    \n",
    "    #truncate eigenvectors of V to M dominant ones\n",
    "    M = np.count_nonzero(mask)\n",
    "    Vh_trunc = Vh[:M,:]\n",
    "    \n",
    "    Vh1 = Vh_trunc[:,:-1]\n",
    "    Vh2 = Vh_trunc[:,1:]\n",
    "    \n",
    "    #solve eigval problem (the papaer takes the pseudo-inverse of Vh1 and Vh2)\n",
    "    z = LA.eigvals(pseudo_inv(Vh1)@Vh2)\n",
    "    \n",
    "    #Solve for residues\n",
    "    signal_matrix = np.zeros((N,len(z)), dtype = complex)\n",
    "    for k in range(N):\n",
    "        signal_matrix[k,:] = z**k\n",
    "    \n",
    "#     print('signals= \\n',signal_matrix.shape)\n",
    "#     print('y = \\n',y.shape)\n",
    "    \n",
    "    residues, _, _, _ = LA.lstsq(signal_matrix, y, rcond = threshold)\n",
    "    \n",
    "    # returning z eigvals, residues (complex amplitudes), and signal_matrix (just for checking fidelity)\n",
    "    return z, residues, signal_matrix\n",
    "\n",
    "result_eigvals, result_residues, matrix_signal = MatrixPencil(observed_signal, time_intervals, pencil_parameter, sigfigs = 6)\n",
    "\n"
   ]
  },
  {
   "cell_type": "code",
   "execution_count": 569,
   "id": "208b956b",
   "metadata": {
    "scrolled": true
   },
   "outputs": [
    {
     "data": {
      "text/plain": [
       "array([ 2.52941371e+00+1.76112449e-01j, -1.16680535e-01+2.26703167e+00j,\n",
       "        1.94840800e+00+1.82900778e+00j, -3.43803810e-01+6.15044134e-01j,\n",
       "        2.76725747e-01+1.00748527e+00j,  9.61600842e-01+7.08337329e-02j,\n",
       "        4.78852089e-01-1.79848731e-01j,  3.35685672e-01+1.05492903e-01j,\n",
       "        4.61291734e-02+3.16434102e-01j,  9.18242937e-13+2.97140157e-12j,\n",
       "       -5.50171741e-13-4.45635186e-13j,  2.39172140e-15+4.28678566e-15j])"
      ]
     },
     "execution_count": 569,
     "metadata": {},
     "output_type": "execute_result"
    }
   ],
   "source": [
    "result_eigvals"
   ]
  },
  {
   "cell_type": "code",
   "execution_count": 570,
   "id": "fdfe96e3",
   "metadata": {
    "scrolled": true
   },
   "outputs": [
    {
     "data": {
      "text/plain": [
       "array([ 1.07872694e-22+1.66385754e-23j, -7.02173842e-20+1.04848650e-20j,\n",
       "        6.97570172e-24+6.94222068e-24j,  2.23945778e-50+1.98527799e-49j,\n",
       "       -1.67432207e-39+1.71214903e-39j, -3.75050861e-41+7.72421423e-42j,\n",
       "       -1.05949261e-55+3.59747415e-56j, -8.94218020e-56+2.57894658e-56j,\n",
       "       -8.11701481e-56+2.27824838e-56j, -8.73440600e-56+2.12829907e-56j,\n",
       "       -8.68965314e-56+2.08503953e-56j, -8.84824658e-56+1.99059632e-56j])"
      ]
     },
     "execution_count": 570,
     "metadata": {},
     "output_type": "execute_result"
    }
   ],
   "source": [
    "result_residues"
   ]
  },
  {
   "cell_type": "code",
   "execution_count": 574,
   "id": "1d16e949",
   "metadata": {},
   "outputs": [
    {
     "data": {
      "text/plain": [
       "array([-7.01025358e-20+1.05084458e-20j, -1.53057006e-20-1.60321045e-19j,\n",
       "        3.66094090e-19-1.63410310e-20j, -3.54234100e-21+8.31112551e-19j,\n",
       "       -1.87840366e-18-1.06699927e-19j,  4.74896659e-19-4.24999093e-18j,\n",
       "        9.61646268e-18+1.56340120e-18j, -4.56616027e-18+2.16017622e-17j,\n",
       "       -4.81728383e-17-1.28878288e-17j,  3.55175370e-17-1.07663124e-16j,\n",
       "        2.41584995e-16+9.33835190e-17j, -2.36012366e-16+5.37879502e-16j,\n",
       "       -1.18279186e-15-5.94734992e-16j,  1.50827103e-15-2.60442828e-15j,\n",
       "        5.78504370e-15+3.74212999e-15j, -9.00604001e-15+1.27325339e-14j,\n",
       "       -2.74073280e-14-2.17228318e-14j,  5.34731805e-14-5.89855817e-14j,\n",
       "        1.29880162e-13+1.30065997e-13j, -3.04902890e-13+2.84904089e-13j,\n",
       "       -6.00020758e-13-7.09897931e-13j,  1.70068813e-12-1.24295345e-12j,\n",
       "        2.67069449e-12+4.07944205e-12j, -9.41509212e-12+5.76999389e-12j,\n",
       "       -1.15621759e-11-2.14885446e-11j,  5.11689370e-11-2.20946235e-11j,\n",
       "        4.65313335e-11+1.23479359e-10j, -2.81470475e-10+1.04952953e-10j,\n",
       "       -2.02248650e-10-6.14987003e-10j,  1.41062952e-09-3.05942052e-10j,\n",
       "        4.97525896e-10+3.40410493e-09j, -7.82339212e-09+1.09434043e-09j,\n",
       "       -1.52064485e-09-1.69606685e-08j,  3.90584390e-08+1.23395269e-09j,\n",
       "       -6.57646358e-09+9.69721333e-08j, -2.21323634e-07-8.78519888e-10j,\n",
       "        5.91119512e-09-4.36009436e-07j,  8.94390935e-07+2.08704153e-07j,\n",
       "       -8.58102793e-07+2.26930048e-06j, -5.68659388e-06-1.78279274e-06j,\n",
       "        3.58750907e-06-1.18886834e-05j,  2.50162067e-05+1.20616482e-05j,\n",
       "       -3.30540416e-05+6.55354668e-05j, -1.58106377e-04-4.65349430e-05j,\n",
       "        5.53941352e-05-2.51699526e-04j,  2.94886101e-04+3.71628600e-04j,\n",
       "       -1.69789786e-03+9.29539827e-04j, -3.87873281e-03-3.90085313e-03j,\n",
       "        5.65708553e-03-9.35508239e-03j,  1.56477648e-02+1.15919431e-02j,\n",
       "       -3.36803897e-02+3.66549221e-02j, -9.81917500e-02-4.54068188e-02j,\n",
       "       -3.14751670e-03-8.16847102e-02j, -3.50050594e-01+3.06279096e-01j,\n",
       "       -2.44575060e+00-5.83091600e-01j, -2.93459570e+00-6.70581743e+00j,\n",
       "        7.15099005e+00-1.27093872e+01j,  1.89176701e+01-1.52701987e+00j,\n",
       "        3.90159112e+00+1.20414973e+01j, -7.47978806e+00+7.39375658e+00j])"
      ]
     },
     "execution_count": 574,
     "metadata": {},
     "output_type": "execute_result"
    }
   ],
   "source": [
    "reconstructed_signal = matrix_signal @ result_residues\n",
    "reconstructed_signal"
   ]
  },
  {
   "cell_type": "code",
   "execution_count": 567,
   "id": "4e57b915",
   "metadata": {},
   "outputs": [
    {
     "data": {
      "text/plain": [
       "array([  5.47805794+13.70158594j,  -8.02779122 +7.79486183j,\n",
       "        -4.8068395  -6.03664568j,  10.12093283 -4.80903655j,\n",
       "        12.47573518+12.26753736j,  -5.23616492+21.15586222j,\n",
       "       -21.68145601 +7.25133274j, -16.13924739-13.88016591j,\n",
       "         4.11746183-18.30525817j,  16.21078132 -4.43265519j,\n",
       "        11.80345259 +9.94780915j,   1.65617257+13.90742342j,\n",
       "        -4.98919065+12.26484072j, -10.38548102+10.28202351j,\n",
       "       -16.43044913 +4.6813954j , -17.04747565 -5.67824365j,\n",
       "        -9.27692572-12.52508638j,  -1.74499885-10.05476302j,\n",
       "        -2.64769316 -5.80611635j,  -5.93881952 -9.63299218j,\n",
       "        -0.23477415-17.0230404j ,  12.07908922-14.88246792j,\n",
       "        16.64163429 -2.32315478j,   8.48503259 +6.46091j   ,\n",
       "        -0.15146488 +2.71331184j,   2.04361892 -4.4784629j ,\n",
       "         9.4104005  -2.63716724j,   9.28601649 +5.77204416j,\n",
       "         1.15276771 +8.5630507j ,  -4.05661395 +2.36662425j,\n",
       "        -0.59194703 -4.21350956j,   6.28313972 -4.31356712j,\n",
       "        10.65606322 +0.32379924j,  12.08037563 +6.8870378j ,\n",
       "         9.27069122+15.5687858j ,  -1.86441363+22.20584293j,\n",
       "       -17.72997508+16.86312195j, -23.3051288  -1.76362222j,\n",
       "        -9.19261346-17.1065765j ,  11.52166125-11.15881141j,\n",
       "        14.73392601+11.12607834j,  -5.4067568 +24.36929701j,\n",
       "       -28.02564588+12.20191189j, -29.7367264 -14.01258952j,\n",
       "       -10.00321532-29.83695494j,  12.16789676-24.3021093j ,\n",
       "        20.38561003 -6.5605416j ,  13.40032317 +8.04551218j,\n",
       "         0.36255607+11.08846734j,  -8.19640426 +3.55265899j,\n",
       "        -6.25979221 -6.4545637j ,   3.04048154 -8.77183111j,\n",
       "         8.32695971 -0.97047094j,   2.12970036 +6.52804953j,\n",
       "        -7.56184863 +2.03619088j,  -5.73069578-10.08062713j,\n",
       "         7.98336903-12.63087715j,  15.84328596 +0.28054994j,\n",
       "         6.26765485+12.36388845j,  -7.85494228 +7.04016664j])"
      ]
     },
     "execution_count": 567,
     "metadata": {},
     "output_type": "execute_result"
    }
   ],
   "source": [
    "observed_signal"
   ]
  },
  {
   "cell_type": "code",
   "execution_count": null,
   "id": "80525d72",
   "metadata": {},
   "outputs": [],
   "source": []
  },
  {
   "cell_type": "code",
   "execution_count": 575,
   "id": "781fed80",
   "metadata": {},
   "outputs": [
    {
     "data": {
      "text/plain": [
       "array([2.52941371e+00+1.76112449e-01j, 1.94840800e+00+1.82900778e+00j,\n",
       "       2.76725747e-01+1.00748527e+00j, 9.61600842e-01+7.08337329e-02j,\n",
       "       4.78852089e-01-1.79848731e-01j, 3.35685672e-01+1.05492903e-01j,\n",
       "       4.61291734e-02+3.16434102e-01j, 9.18242937e-13+2.97140157e-12j])"
      ]
     },
     "execution_count": 575,
     "metadata": {},
     "output_type": "execute_result"
    }
   ],
   "source": [
    "result_eigvals[(np.real(eigvals_general)> 10**(-8))]"
   ]
  },
  {
   "cell_type": "code",
   "execution_count": null,
   "id": "a8415e3c",
   "metadata": {},
   "outputs": [],
   "source": []
  }
 ],
 "metadata": {
  "kernelspec": {
   "display_name": "Python 3 (ipykernel)",
   "language": "python",
   "name": "python3"
  },
  "language_info": {
   "codemirror_mode": {
    "name": "ipython",
    "version": 3
   },
   "file_extension": ".py",
   "mimetype": "text/x-python",
   "name": "python",
   "nbconvert_exporter": "python",
   "pygments_lexer": "ipython3",
   "version": "3.9.18"
  }
 },
 "nbformat": 4,
 "nbformat_minor": 5
}
